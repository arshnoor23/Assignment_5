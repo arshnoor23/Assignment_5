{
  "cells": [
    {
      "cell_type": "code",
      "execution_count": 4,
      "metadata": {
        "id": "wSSQUjrQ1VVp"
      },
      "outputs": [],
      "source": [
        "import numpy as np\n",
        "import torch "
      ]
    },
    {
      "cell_type": "code",
      "execution_count": 5,
      "metadata": {
        "id": "Sd1pH_CMaNLQ"
      },
      "outputs": [],
      "source": [
        "#Objective Functions and Inequality Constraints\n",
        "obj = lambda x: x[0]**2 + (x[1] - 3)**2\n",
        "g1 = lambda x: x[1]**2 - 2*x[0]\n",
        "g2 = lambda x: (x[1]-1)**2 + 5*x[0]-15\n",
        "df_obj  = lambda x : torch.tensor([[2*x[0], 2*(x[1]-3)]])\n",
        "df_g1 = lambda x : torch.tensor([[-2, 2*x[1]]])\n",
        "df_g2 = lambda x: torch.tensor([[5, 2*(x[1]-1)]])"
      ]
    },
    {
      "cell_type": "code",
      "execution_count": 16,
      "metadata": {
        "id": "XwFyVPErOiZk"
      },
      "outputs": [],
      "source": [
        "def PenaltyWeights(mu, weights,k):\n",
        "  if k > 0:\n",
        "    weights = torch.max(abs(mu), 0.5 *(weights + abs(mu)))    #For rest of the iterations\n",
        "  else:   \n",
        "    weights = abs(mu)     #For first iteration\n",
        "  return weights"
      ]
    },
    {
      "cell_type": "code",
      "execution_count": 17,
      "metadata": {
        "id": "mqooyKd3S4zl"
      },
      "outputs": [],
      "source": [
        "def F_alpha(x,weights,alpha,s):\n",
        "  G1=max(0, g1(x + alpha*s)) # constraint 1\n",
        "  G2=max(0, g2(x + alpha*s)) # constraint 2\n",
        "  return obj(x + alpha*s) +  weights[0,:] * G1 + weights[1,:]* G2 # Merit Function Equation"
      ]
    },
    {
      "cell_type": "code",
      "execution_count": 18,
      "metadata": {
        "id": "iQQE7Dju2EON"
      },
      "outputs": [],
      "source": [
        "def ArmijiloLineSearch(x,mu,weights,s,k):\n",
        "    t = 0.4\n",
        "    alpha = 1\n",
        "    weights = PenaltyWeights(mu, weights,k)\n",
        "    if g1(x) <= 0:\n",
        "       dg1_da = 0\n",
        "    else:\n",
        "      dg1_da= torch.matmul(df_g1(x), s)\n",
        "\n",
        "    if g2(x) <= 0:\n",
        "       dg2_da = 0\n",
        "    else:\n",
        "      dg2_da= torch.matmul(df_g2(x), s)\n",
        "\n",
        "    dF_da = torch.matmul(df_obj(x), s) + (weights[0, :]*dg1_da + weights[1, :]*dg2_da)\n",
        "\n",
        "    phi = lambda x, weights, alpha, t, dF_da: F_alpha(x, weights, 0, 0) + alpha*t*dF_da\n",
        "\n",
        "    while phi(x, weights, alpha, t, dF_da) < F_alpha(x, weights, alpha, s):\n",
        "        alpha = 0.5 * alpha\n",
        "    return alpha, weights"
      ]
    },
    {
      "cell_type": "code",
      "execution_count": 9,
      "metadata": {
        "id": "RLG-Fb5Jm0KD"
      },
      "outputs": [],
      "source": [
        "def BFGS(x,W, s, mu, alpha):\n",
        "  lx_k = df_obj(x) + torch.matmul(mu.T, torch.tensor([g1(x),g2(x)]))\n",
        "  lx_k_1 = df_obj(x + alpha*s) + torch.matmul(mu.T, torch.tensor([g1(x + alpha*s),g2(x + alpha*s )]))\n",
        "\n",
        "  delta_l = lx_k_1 -lx_k\n",
        "  \n",
        "  Q = torch.matmul(torch.matmul((alpha*s).T, W), (alpha*s))\n",
        "  if torch.matmul((alpha*s).T, delta_l.T) >= 0.2 * torch.matmul(torch.matmul((alpha*s).T, W), (alpha*s)):\n",
        "        theta = 1\n",
        "  else:\n",
        "        theta = 0.8 * Q / (Q - torch.matmul((alpha*s).T, delta_l.T))\n",
        "  y = theta * delta_l.T + (1 - theta) * torch.matmul(W, (alpha*s))\n",
        "  W = W + torch.matmul(y, y.T) / torch.matmul(y.T, s) - torch.matmul(torch.matmul(W, s), torch.matmul(s.T, W)) / torch.matmul(torch.matmul(s.T, W), s)\n",
        "  return W"
      ]
    },
    {
      "cell_type": "code",
      "source": [
        "def MuCheck(mu,active):\n",
        "    mu_check = 0\n",
        "    if len(mu) == 0 or min(mu) > 0:\n",
        "        mu_check  = 1\n",
        "    else:\n",
        "        mu_idx = np.argmin(np.array(mu))\n",
        "        mu = mu[mu!=min(mu)]\n",
        "        active.pop(mu_idx)\n",
        "    return active, mu_check ,mu"
      ],
      "metadata": {
        "id": "jIpMbr26JPD5"
      },
      "execution_count": 19,
      "outputs": []
    },
    {
      "cell_type": "code",
      "execution_count": 20,
      "metadata": {
        "id": "xS_NQJZefjEO"
      },
      "outputs": [],
      "source": [
        "def solve_sqp(x, W):\n",
        "    active = []\n",
        "    A_0 = torch.cat((df_g1(x),df_g2(x)),0)\n",
        "    B_0 = torch.tensor([[g1(x), g2(x)]]).T\n",
        "    mu_0 = torch.zeros((B_0.shape[0], 1))\n",
        "    mu = []\n",
        "    while True:\n",
        "      if len(active) == 0:\n",
        "            s_mu = torch.matmul(torch.linalg.inv(W), -df_obj(x).T)\n",
        "            s = s_mu[:2, :]\n",
        "      if len(active) > 0:\n",
        "        if len(active) == 1:\n",
        "                A = A_0[active[0], :].reshape(1, -1)\n",
        "                B = B_0[active[0], :].reshape(1,1)\n",
        "        if len(active) == 2:\n",
        "                A = A_0\n",
        "                B = B_0\n",
        "                \n",
        "        Z = torch.zeros((A.shape[0], A.shape[0]))\n",
        "        matrix=torch.cat((torch.cat((W,A.T),1),torch.cat((A,Z),1)),0)\n",
        "        j=torch.cat((-df_obj(x).T,-B),0)\n",
        "        s_mu = torch.matmul(torch.linalg.inv(matrix), j)\n",
        "        s = s_mu[:2, :]\n",
        "        mu = s_mu[2:, :]\n",
        "\n",
        "      if len(mu) == 1:\n",
        "          mu_0[0] = s_mu[2:3, :]\n",
        "      if len(mu) == 2:\n",
        "          mu_0[0] = s_mu[2:3, :]\n",
        "          mu_0[1] = s_mu[3:, :]\n",
        "\n",
        "      sqp_constraint = torch.round((torch.matmul(A_0, s.reshape(-1, 1)) + B_0))\n",
        "      active, mu_check,mu = MuCheck(mu,active)\n",
        "\n",
        "      if torch.max(sqp_constraint) <= 0 and mu_check == 1:\n",
        "            return s, mu_0\n",
        "      else:\n",
        "          index = np.argmax(sqp_constraint)\n",
        "          active.append(index)\n",
        "          active = np.unique(np.array(active)).tolist()"
      ]
    },
    {
      "cell_type": "code",
      "execution_count": 12,
      "metadata": {
        "id": "BDOHbl5JVHlF"
      },
      "outputs": [],
      "source": [
        "x = torch.tensor([[1,1.]]).T\n",
        "x_initial = x\n",
        "mu = torch.zeros((x.shape[0], 1))\n",
        "weights = torch.zeros((x.shape[0], 1))+2\n",
        "W = torch.eye(x.shape[0])\n",
        "eps = 1e-4\n",
        "k = 0\n",
        "\n",
        "delta_L_norm = np.linalg.norm(df_obj(x) + np.matmul(mu.T, torch.cat((df_g1(x),df_g2(x)),0)))\n",
        "\n",
        "while delta_L_norm > eps:\n",
        "    s, mu = solve_sqp(x, W)\n",
        "    a, weights = ArmijiloLineSearch(x,mu,weights,s,k)\n",
        "    weights_old = weights\n",
        "    W = BFGS(x,W, s, mu, a) \n",
        "    x += a*s\n",
        "    k += 1\n",
        "    delta_L_norm = np.linalg.norm(df_obj(x) + np.matmul(mu.T, torch.cat((df_g1(x),df_g2(x)),0)))"
      ]
    },
    {
      "cell_type": "code",
      "source": [
        "print(f'Solution for this problem is: X=({x[0][0]},{x[1][0]})')"
      ],
      "metadata": {
        "colab": {
          "base_uri": "https://localhost:8080/"
        },
        "id": "WVatnvhUUt-a",
        "outputId": "6ee5e37a-94bf-421c-882b-2fe55c4193c7"
      },
      "execution_count": 13,
      "outputs": [
        {
          "output_type": "stream",
          "name": "stdout",
          "text": [
            "Solution for this problem is: X=(1.0602166652679443,1.4561707973480225)\n"
          ]
        }
      ]
    },
    {
      "cell_type": "code",
      "source": [
        "print(f'The minumim value of objective function is {obj([x[0][0],x[1][0]])}')\n",
        "print(f'The inequality constraints are: \\n g1={g1([x[0][0],x[1][0]])} \\n g2={g2([x[0][0],x[1][0]])}')"
      ],
      "metadata": {
        "colab": {
          "base_uri": "https://localhost:8080/"
        },
        "id": "w-iz-MnbWD1W",
        "outputId": "5df986c1-681d-4f7a-ace9-378e4199e305"
      },
      "execution_count": 15,
      "outputs": [
        {
          "output_type": "stream",
          "name": "stdout",
          "text": [
            "The minumim value of objective function is 3.507467746734619\n",
            "The inequality constraints are: \n",
            " g1=0.0 \n",
            " g2=-9.490824699401855\n"
          ]
        }
      ]
    },
    {
      "cell_type": "markdown",
      "source": [
        "Both the inequality constraints are satisfied, hence this is a feasible solution, and from SQP algorithm, this solution is the optimal solution."
      ],
      "metadata": {
        "id": "38zY5VyIyVYa"
      }
    }
  ],
  "metadata": {
    "colab": {
      "provenance": []
    },
    "kernelspec": {
      "display_name": "Python 3",
      "name": "python3"
    },
    "language_info": {
      "name": "python"
    }
  },
  "nbformat": 4,
  "nbformat_minor": 0
}